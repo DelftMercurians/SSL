{
 "cells": [
  {
   "cell_type": "code",
   "execution_count": 1,
   "metadata": {},
   "outputs": [],
   "source": [
    "import numpy as np\n",
    "from lightning7_ssl.vecMath.vec_array import Vec2Array, Vec2\n",
    "from lightning7_ssl.player.pathfinder import find_path\n",
    "from unittest.mock import MagicMock, patch"
   ]
  },
  {
   "cell_type": "code",
   "execution_count": 2,
   "metadata": {},
   "outputs": [],
   "source": [
    "x = np.linspace(0, 100, 100)\n",
    "y = np.linspace(0, 100, 100)\n",
    "X, Y = np.meshgrid(x, y)\n",
    "points = np.stack((X, Y), axis=2)"
   ]
  },
  {
   "cell_type": "code",
   "execution_count": 13,
   "metadata": {},
   "outputs": [
    {
     "data": {
      "text/plain": [
       "array([[0, 0]])"
      ]
     },
     "execution_count": 13,
     "metadata": {},
     "output_type": "execute_result"
    }
   ],
   "source": []
  },
  {
   "cell_type": "code",
   "execution_count": 3,
   "metadata": {},
   "outputs": [
    {
     "name": "stderr",
     "output_type": "stream",
     "text": [
      "/home/mablin/Projects/github.com/DelftMercurians/SSL/lightning7_ssl/vecMath/vec_array.py:52: RuntimeWarning: divide by zero encountered in divide\n",
      "  return Vec2Array(self._arr / scalar)\n",
      "/home/mablin/Projects/github.com/DelftMercurians/SSL/lightning7_ssl/vecMath/vec_array.py:52: RuntimeWarning: invalid value encountered in divide\n",
      "  return Vec2Array(self._arr / scalar)\n",
      "/home/mablin/Projects/github.com/DelftMercurians/SSL/lightning7_ssl/vecMath/vec_array.py:78: RuntimeWarning: invalid value encountered in multiply\n",
      "  return self.x * other.x + self.y * other.y\n",
      "/home/mablin/Projects/github.com/DelftMercurians/SSL/lightning7_ssl/vecMath/vec_array.py:49: RuntimeWarning: invalid value encountered in multiply\n",
      "  return Vec2Array(self._arr * scalar)\n"
     ]
    },
    {
     "ename": "ValueError",
     "evalue": "The truth value of an array with more than one element is ambiguous. Use a.any() or a.all()",
     "output_type": "error",
     "traceback": [
      "\u001b[0;31m---------------------------------------------------------------------------\u001b[0m",
      "\u001b[0;31mValueError\u001b[0m                                Traceback (most recent call last)",
      "Cell \u001b[0;32mIn[3], line 17\u001b[0m\n\u001b[1;32m     12\u001b[0m     world\u001b[39m.\u001b[39mget_opp_vel\u001b[39m.\u001b[39mreturn_value \u001b[39m=\u001b[39m [\n\u001b[1;32m     13\u001b[0m         Vec2(\u001b[39m0\u001b[39m, \u001b[39m0\u001b[39m),\n\u001b[1;32m     14\u001b[0m     ]\n\u001b[1;32m     15\u001b[0m     \u001b[39mreturn\u001b[39;00m find_path(\u001b[39m0\u001b[39m, Vec2Array(np\u001b[39m.\u001b[39marray([[\u001b[39m0\u001b[39m, \u001b[39m0\u001b[39m]])), start_pos\u001b[39m=\u001b[39mVec2Array(points))\n\u001b[0;32m---> 17\u001b[0m test()\n",
      "File \u001b[0;32m/usr/lib/python3.10/unittest/mock.py:1379\u001b[0m, in \u001b[0;36m_patch.decorate_callable.<locals>.patched\u001b[0;34m(*args, **keywargs)\u001b[0m\n\u001b[1;32m   1374\u001b[0m \u001b[39m@wraps\u001b[39m(func)\n\u001b[1;32m   1375\u001b[0m \u001b[39mdef\u001b[39;00m \u001b[39mpatched\u001b[39m(\u001b[39m*\u001b[39margs, \u001b[39m*\u001b[39m\u001b[39m*\u001b[39mkeywargs):\n\u001b[1;32m   1376\u001b[0m     \u001b[39mwith\u001b[39;00m \u001b[39mself\u001b[39m\u001b[39m.\u001b[39mdecoration_helper(patched,\n\u001b[1;32m   1377\u001b[0m                                 args,\n\u001b[1;32m   1378\u001b[0m                                 keywargs) \u001b[39mas\u001b[39;00m (newargs, newkeywargs):\n\u001b[0;32m-> 1379\u001b[0m         \u001b[39mreturn\u001b[39;00m func(\u001b[39m*\u001b[39;49mnewargs, \u001b[39m*\u001b[39;49m\u001b[39m*\u001b[39;49mnewkeywargs)\n",
      "Cell \u001b[0;32mIn[3], line 15\u001b[0m, in \u001b[0;36mtest\u001b[0;34m(world)\u001b[0m\n\u001b[1;32m      9\u001b[0m world\u001b[39m.\u001b[39mget_team_vel\u001b[39m.\u001b[39mreturn_value \u001b[39m=\u001b[39m [\n\u001b[1;32m     10\u001b[0m     Vec2(\u001b[39m0\u001b[39m, \u001b[39m0\u001b[39m),\n\u001b[1;32m     11\u001b[0m ]\n\u001b[1;32m     12\u001b[0m world\u001b[39m.\u001b[39mget_opp_vel\u001b[39m.\u001b[39mreturn_value \u001b[39m=\u001b[39m [\n\u001b[1;32m     13\u001b[0m     Vec2(\u001b[39m0\u001b[39m, \u001b[39m0\u001b[39m),\n\u001b[1;32m     14\u001b[0m ]\n\u001b[0;32m---> 15\u001b[0m \u001b[39mreturn\u001b[39;00m find_path(\u001b[39m0\u001b[39;49m, Vec2Array(np\u001b[39m.\u001b[39;49marray([[\u001b[39m0\u001b[39;49m, \u001b[39m0\u001b[39;49m]])), start_pos\u001b[39m=\u001b[39;49mVec2Array(points))\n",
      "File \u001b[0;32m~/Projects/github.com/DelftMercurians/SSL/lightning7_ssl/player/pathfinder.py:93\u001b[0m, in \u001b[0;36mfind_path\u001b[0;34m(start_id, goal, alpha, beta, influence_factor, start_pos)\u001b[0m\n\u001b[1;32m     91\u001b[0m d \u001b[39m=\u001b[39m (start_pos \u001b[39m-\u001b[39m o)\u001b[39m.\u001b[39mnorm\n\u001b[1;32m     92\u001b[0m final_influence_radius \u001b[39m=\u001b[39m influence_radius \u001b[39m+\u001b[39m speed \u001b[39m*\u001b[39m speed_factor\n\u001b[0;32m---> 93\u001b[0m \u001b[39mif\u001b[39;00m d \u001b[39m<\u001b[39m final_influence_radius:\n\u001b[1;32m     94\u001b[0m     repulsive_force \u001b[39m=\u001b[39m (\n\u001b[1;32m     95\u001b[0m         \u001b[39m1.0\u001b[39m \u001b[39m/\u001b[39m (d \u001b[39m-\u001b[39m \u001b[39m2\u001b[39m \u001b[39m*\u001b[39m RADIUS_ROBOT \u001b[39m*\u001b[39m \u001b[39m1000\u001b[39m) \u001b[39m-\u001b[39m \u001b[39m1.0\u001b[39m \u001b[39m/\u001b[39m (final_influence_radius \u001b[39m-\u001b[39m \u001b[39m2\u001b[39m \u001b[39m*\u001b[39m RADIUS_ROBOT \u001b[39m*\u001b[39m \u001b[39m1000\u001b[39m)\n\u001b[1;32m     96\u001b[0m     ) \u001b[39m*\u001b[39m (speed \u001b[39m*\u001b[39m beta \u001b[39m+\u001b[39m \u001b[39m1\u001b[39m)\n\u001b[1;32m     97\u001b[0m     f \u001b[39m+\u001b[39m\u001b[39m=\u001b[39m (start_pos \u001b[39m-\u001b[39m o)\u001b[39m.\u001b[39mas_unit() \u001b[39m*\u001b[39m repulsive_force\n",
      "\u001b[0;31mValueError\u001b[0m: The truth value of an array with more than one element is ambiguous. Use a.any() or a.all()"
     ]
    }
   ],
   "source": [
    "@patch(\"lightning7_ssl.cfg.world\")\n",
    "def test(world: MagicMock):\n",
    "    world.get_team_position.return_value = [\n",
    "        Vec2(0, 0),\n",
    "    ]\n",
    "    world.get_opp_position.return_value = [\n",
    "        Vec2(0, 0),\n",
    "    ]\n",
    "    world.get_team_vel.return_value = [\n",
    "        Vec2(0, 0),\n",
    "    ]\n",
    "    world.get_opp_vel.return_value = [\n",
    "        Vec2(0, 0),\n",
    "    ]\n",
    "    return find_path(0, Vec2Array(np.array([[0, 0]])), start_pos=Vec2Array(points))\n",
    "\n",
    "test()"
   ]
  },
  {
   "cell_type": "code",
   "execution_count": 8,
   "metadata": {},
   "outputs": [
    {
     "name": "stdout",
     "output_type": "stream",
     "text": [
      "Base.__new__\n",
      "<class '__main__.Derived'>\n",
      "Derived.__init__\n",
      "<class '__main__.Derived'>\n"
     ]
    }
   ],
   "source": [
    "class Base:\n",
    "    def __new__(cls, *args, **kwargs):\n",
    "        print(\"Base.__new__\")\n",
    "        inst = super().__new__(cls)\n",
    "        print(type(inst))\n",
    "        return inst\n",
    "    \n",
    "class Derived(Base):\n",
    "    def __init__(self) -> None:\n",
    "        print(\"Derived.__init__\")\n",
    "\n",
    "print(type(Derived()))"
   ]
  },
  {
   "cell_type": "code",
   "execution_count": 61,
   "metadata": {},
   "outputs": [
    {
     "data": {
      "text/plain": [
       "True"
      ]
     },
     "execution_count": 61,
     "metadata": {},
     "output_type": "execute_result"
    }
   ],
   "source": [
    "from typing import List, Dict, Tuple, Any, Callable, Set, Literal, get_type_hints, get_origin, get_args\n",
    "import inspect\n",
    "\n",
    "class A:\n",
    "    a: int = 1\n",
    "    b: List[int] = [1, 2, 3]\n",
    "    c: Dict[str, int] = {\"a\": 1, \"b\": 2}\n",
    "    d: Tuple[int, int] = (1, 2)\n",
    "    e: Any = 1\n",
    "    f: Callable = lambda x: x\n",
    "    g: Set[int] = {1, 2, 3}\n",
    "    h: Literal[\"a\", \"b\", \"c\"] = \"a\"\n",
    "    j: None\n",
    "    k: Any\n",
    "\n",
    "get_origin(get_type_hints(A)[\"b\"]) is list\n",
    "get_args(list) \n",
    "get_origin(get_type_hints(A)[\"h\"]) is Literal\n",
    "get_type_hints(A)[\"k\"] is Any"
   ]
  },
  {
   "cell_type": "code",
   "execution_count": 1,
   "metadata": {},
   "outputs": [
    {
     "name": "stdout",
     "output_type": "stream",
     "text": [
      "/** Test class C */\n",
      "export interface C {\n",
      "  a: number;\n",
      "  b: number[];\n",
      "}\n",
      "\n",
      "/** Test class B */\n",
      "export interface B {\n",
      "  e: any;\n",
      "  f: C;\n",
      "}\n",
      "\n",
      "/** Test class A */\n",
      "export interface RootData {\n",
      "  a: number;\n",
      "  b: B;\n",
      "}\n",
      "\n",
      "export interface State {root_data: RootData;\n",
      "}\n"
     ]
    }
   ],
   "source": [
    "from lightning7_ssl.vis.tracker import TrackedBase\n",
    "from typing import List, Dict, Tuple, Any, Set, Literal\n",
    "from dataclasses import dataclass\n",
    "\n",
    "class Invalid:\n",
    "    pass\n",
    "\n",
    "@dataclass\n",
    "class C:\n",
    "    \"\"\"Test class C\"\"\"\n",
    "    a: int\n",
    "    b: List[int]\n",
    "    c: Invalid\n",
    "\n",
    "class B(TrackedBase):\n",
    "    \"\"\"Test class B\"\"\"\n",
    "    e: Any = 1\n",
    "    f: C\n",
    "\n",
    "class RootData(TrackedBase, root=True):\n",
    "    \"\"\"Test class A\"\"\"\n",
    "    a: int = 1\n",
    "    b: B\n",
    "    c: Invalid\n",
    "\n",
    "print(TrackedBase.generate_ts_types())"
   ]
  }
 ],
 "metadata": {
  "kernelspec": {
   "display_name": "lightning7-ssl-N8ztMBhQ-py3.10",
   "language": "python",
   "name": "python3"
  },
  "language_info": {
   "codemirror_mode": {
    "name": "ipython",
    "version": 3
   },
   "file_extension": ".py",
   "mimetype": "text/x-python",
   "name": "python",
   "nbconvert_exporter": "python",
   "pygments_lexer": "ipython3",
   "version": "3.10.10"
  },
  "orig_nbformat": 4
 },
 "nbformat": 4,
 "nbformat_minor": 2
}
